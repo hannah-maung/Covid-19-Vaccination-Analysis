{
 "cells": [
  {
   "cell_type": "markdown",
   "id": "0fd36bd0",
   "metadata": {},
   "source": [
    "# Analysis on COVID-19 Vaccination and Mortality Rates in the United States"
   ]
  },
  {
   "cell_type": "markdown",
   "id": "e7566797",
   "metadata": {},
   "source": [
    "Author: Hannah Maung"
   ]
  },
  {
   "cell_type": "markdown",
   "id": "151c94b4",
   "metadata": {},
   "source": [
    "### Datasets\n",
    "In this analysis, I will be comparing COVID-19 vaccination rates and mortality rates, and evaluating their correlation. The datasets I will be using in this notebook can be found at the following: \n",
    "- **Our World In Data**: https://ourworldindata.org/us-states-vaccinations\n",
    "    - State-by-state data on COVID-19 vaccinations in the United States\n",
    "- **CDC**: https://data.cdc.gov/Case-Surveillance/United-States-COVID-19-Cases-and-Deaths-by-State-o/9mfq-cb36\n",
    "    - State-by-state data on COVID-19 excess deaths associated with COVID-19 in the United States"
   ]
  },
  {
   "cell_type": "code",
   "execution_count": 315,
   "id": "d4dbe3fc",
   "metadata": {},
   "outputs": [],
   "source": [
    "#all necessary libraries\n",
    "import pandas as pd\n",
    "import numpy as np\n",
    "import matplotlib.pyplot as plt\n",
    "import seaborn as sns\n",
    "import plotly \n",
    "import plotly.express as px\n",
    "import plotly.graph_objects as go\n",
    "import plotly.offline as py\n",
    "from plotly.offline import iplot\n",
    "from plotly.subplots import make_subplots\n",
    "import plotly.figure_factory as ff\n",
    "import pyspark.pandas as ps\n",
    "import config as cf\n",
    "from pyspark.sql.types import IntegerType\n",
    "from pyspark.sql.functions import *\n",
    "from pyspark.sql.functions import col\n",
    "import os\n",
    "from sqlalchemy import func\n",
    "os.environ[\"PYARROW_IGNORE_TIMEZONE\"] = \"1\""
   ]
  },
  {
   "cell_type": "code",
   "execution_count": 316,
   "id": "a776aadb",
   "metadata": {},
   "outputs": [],
   "source": [
    "spark = SparkSession \\\n",
    "        .builder \\\n",
    "        .appName(\"firstSpark\") \\\n",
    "        .getOrCreate()"
   ]
  },
  {
   "cell_type": "code",
   "execution_count": 317,
   "id": "aea06060",
   "metadata": {},
   "outputs": [],
   "source": [
    "import findspark\n",
    "findspark.init()\n",
    "\n",
    "import pyspark # only run after findspark.init()\n",
    "from pyspark.sql import SparkSession\n",
    "spark = SparkSession.builder.getOrCreate()"
   ]
  },
  {
   "cell_type": "markdown",
   "id": "afe84600",
   "metadata": {},
   "source": [
    "# 1. Exploratory data analysis"
   ]
  },
  {
   "cell_type": "code",
   "execution_count": 318,
   "id": "491b19b1",
   "metadata": {},
   "outputs": [],
   "source": [
    "def load_dataframe(filename):\n",
    "    df = spark.read.format('csv').options(header='true').load(filename)\n",
    "    return df\n",
    "\n",
    "#creating a spark dataframe(1)\n",
    "df_matches1 = load_dataframe('us_state_vaccinations.csv')\n",
    "\n",
    "#creating a spark dataframe(2)\n",
    "df_matches2 = load_dataframe('United_States_COVID-19_Cases_and_Deaths_by_State_over_Time.csv')"
   ]
  },
  {
   "cell_type": "code",
   "execution_count": 319,
   "id": "b620d569",
   "metadata": {},
   "outputs": [],
   "source": [
    "#creating a pandas dataframe(1)\n",
    "plot1 = pd.read_csv(\"us_state_vaccinations.csv\")\n",
    "\n",
    "#dropping locations outside of the US for pandas df\n",
    "plot1_new = plot1[(plot1.location != 'Republic of Palau') & (plot1.location != 'Federated States of Micronesia') & (plot1.location != 'Marshall Islands') & (plot1.location != 'Virgin Islands') & (plot1.location != 'American Samoa') & (plot1.location != 'Northern Mariana Islands') & (plot1.location != 'Guam') & (plot1.location != 'Bureau of Prisons') & (plot1.location != 'Dept of Defense') & (plot1.location != 'Puerto Rico')& (plot1.location != 'District of Columbia')& (plot1.location != 'Indian Health Svc') & (plot1.location != \"United States\")]\n",
    "\n",
    "#creatind a pandas dataframe(2)\n",
    "plot2 = pd.read_csv(\"United_States_COVID-19_Cases_and_Deaths_by_State_over_Time.csv\")"
   ]
  },
  {
   "cell_type": "code",
   "execution_count": 320,
   "id": "7d624d81",
   "metadata": {},
   "outputs": [],
   "source": [
    "#using withColumn(), a transformation function\n",
    "#updates value from string to integer\n",
    "df_matches1 = df_matches1.withColumn('total_vaccinations',col('total_vaccinations').cast('integer'))\n",
    "df_matches1 = df_matches1.withColumn('people_vaccinated',col('people_vaccinated').cast('integer'))\n",
    "df_matches1 = df_matches1.withColumn('people_fully_vaccinated_per_hundred',col('people_fully_vaccinated_per_hundred').cast('integer'))\n",
    "df_matches1 = df_matches1.withColumn('total_vaccinations_per_hundred',col('total_vaccinations_per_hundred').cast('integer'))\n",
    "df_matches2 = df_matches2.withColumn('tot_death',col('tot_death').cast('integer'))"
   ]
  },
  {
   "cell_type": "code",
   "execution_count": 321,
   "id": "f75d3f54",
   "metadata": {},
   "outputs": [],
   "source": [
    "#Getting rid of null values\n",
    "df1 = df_matches1.dropna()\n",
    "df2 = df_matches2.dropna()"
   ]
  },
  {
   "cell_type": "code",
   "execution_count": 322,
   "id": "4d2962e8",
   "metadata": {},
   "outputs": [
    {
     "name": "stdout",
     "output_type": "stream",
     "text": [
      "+---------------+----------+----------------+------------+---------------+\n",
      "|submission_date|yyyy MM dd|      MM/dd/yyyy|yyyy MMMM dd| yyyy MMMM dd E|\n",
      "+---------------+----------+----------------+------------+---------------+\n",
      "|     2022-05-25|2022 05 25|05/25/2022 08:46| 2022 May 25|2022 May 25 Wed|\n",
      "|     2022-05-25|2022 05 25|05/25/2022 08:46| 2022 May 25|2022 May 25 Wed|\n",
      "|     2022-05-25|2022 05 25|05/25/2022 08:46| 2022 May 25|2022 May 25 Wed|\n",
      "+---------------+----------+----------------+------------+---------------+\n",
      "only showing top 3 rows\n",
      "\n"
     ]
    }
   ],
   "source": [
    "#Changing date format of dataset2 \n",
    "df2.select(current_date().alias(\"submission_date\"), \\\n",
    "      date_format(current_date(),\"yyyy MM dd\").alias(\"yyyy MM dd\"), \\\n",
    "      date_format(current_timestamp(),\"MM/dd/yyyy hh:mm\").alias(\"MM/dd/yyyy\"), \\\n",
    "      date_format(current_timestamp(),\"yyyy MMM dd\").alias(\"yyyy MMMM dd\"), \\\n",
    "      date_format(current_timestamp(),\"yyyy MMMM dd E\").alias(\"yyyy MMMM dd E\") \\\n",
    "   ).show(3)"
   ]
  },
  {
   "cell_type": "code",
   "execution_count": 323,
   "id": "57a94b44",
   "metadata": {},
   "outputs": [
    {
     "data": {
      "text/html": [
       "<div>\n",
       "<style scoped>\n",
       "    .dataframe tbody tr th:only-of-type {\n",
       "        vertical-align: middle;\n",
       "    }\n",
       "\n",
       "    .dataframe tbody tr th {\n",
       "        vertical-align: top;\n",
       "    }\n",
       "\n",
       "    .dataframe thead th {\n",
       "        text-align: right;\n",
       "    }\n",
       "</style>\n",
       "<table border=\"1\" class=\"dataframe\">\n",
       "  <thead>\n",
       "    <tr style=\"text-align: right;\">\n",
       "      <th></th>\n",
       "      <th>date</th>\n",
       "      <th>location</th>\n",
       "      <th>total_vaccinations</th>\n",
       "      <th>total_distributed</th>\n",
       "      <th>people_vaccinated</th>\n",
       "      <th>people_fully_vaccinated_per_hundred</th>\n",
       "      <th>total_vaccinations_per_hundred</th>\n",
       "      <th>people_fully_vaccinated</th>\n",
       "      <th>people_vaccinated_per_hundred</th>\n",
       "      <th>distributed_per_hundred</th>\n",
       "      <th>daily_vaccinations_raw</th>\n",
       "      <th>daily_vaccinations</th>\n",
       "      <th>daily_vaccinations_per_million</th>\n",
       "      <th>share_doses_used</th>\n",
       "      <th>total_boosters</th>\n",
       "      <th>total_boosters_per_hundred</th>\n",
       "    </tr>\n",
       "  </thead>\n",
       "  <tbody>\n",
       "    <tr>\n",
       "      <th>0</th>\n",
       "      <td>2021-10-21</td>\n",
       "      <td>Alabama</td>\n",
       "      <td>4732829</td>\n",
       "      <td>6999770.0</td>\n",
       "      <td>2637734</td>\n",
       "      <td>44</td>\n",
       "      <td>96</td>\n",
       "      <td>2165154.0</td>\n",
       "      <td>53.8</td>\n",
       "      <td>142.76</td>\n",
       "      <td>9910.0</td>\n",
       "      <td>9029.0</td>\n",
       "      <td>1841.0</td>\n",
       "      <td>0.676</td>\n",
       "      <td>134615</td>\n",
       "      <td>2.75</td>\n",
       "    </tr>\n",
       "    <tr>\n",
       "      <th>1</th>\n",
       "      <td>2021-10-22</td>\n",
       "      <td>Alabama</td>\n",
       "      <td>4742444</td>\n",
       "      <td>7045270.0</td>\n",
       "      <td>2644229</td>\n",
       "      <td>44</td>\n",
       "      <td>96</td>\n",
       "      <td>2170323.0</td>\n",
       "      <td>53.93</td>\n",
       "      <td>143.69</td>\n",
       "      <td>9615.0</td>\n",
       "      <td>9226.0</td>\n",
       "      <td>1882.0</td>\n",
       "      <td>0.673</td>\n",
       "      <td>138996</td>\n",
       "      <td>2.83</td>\n",
       "    </tr>\n",
       "    <tr>\n",
       "      <th>2</th>\n",
       "      <td>2021-10-23</td>\n",
       "      <td>Alabama</td>\n",
       "      <td>4759947</td>\n",
       "      <td>7062480.0</td>\n",
       "      <td>2648588</td>\n",
       "      <td>44</td>\n",
       "      <td>97</td>\n",
       "      <td>2174923.0</td>\n",
       "      <td>54.02</td>\n",
       "      <td>144.04</td>\n",
       "      <td>17503.0</td>\n",
       "      <td>10252.0</td>\n",
       "      <td>2091.0</td>\n",
       "      <td>0.674</td>\n",
       "      <td>147525</td>\n",
       "      <td>3.01</td>\n",
       "    </tr>\n",
       "    <tr>\n",
       "      <th>3</th>\n",
       "      <td>2021-10-24</td>\n",
       "      <td>Alabama</td>\n",
       "      <td>4766186</td>\n",
       "      <td>7061780.0</td>\n",
       "      <td>2650133</td>\n",
       "      <td>44</td>\n",
       "      <td>97</td>\n",
       "      <td>2176540.0</td>\n",
       "      <td>54.05</td>\n",
       "      <td>144.02</td>\n",
       "      <td>6239.0</td>\n",
       "      <td>8961.0</td>\n",
       "      <td>1828.0</td>\n",
       "      <td>0.675</td>\n",
       "      <td>150656</td>\n",
       "      <td>3.07</td>\n",
       "    </tr>\n",
       "    <tr>\n",
       "      <th>4</th>\n",
       "      <td>2021-10-25</td>\n",
       "      <td>Alabama</td>\n",
       "      <td>4773728</td>\n",
       "      <td>7058840.0</td>\n",
       "      <td>2652037</td>\n",
       "      <td>44</td>\n",
       "      <td>97</td>\n",
       "      <td>2177980.0</td>\n",
       "      <td>54.09</td>\n",
       "      <td>143.96</td>\n",
       "      <td>7542.0</td>\n",
       "      <td>9136.0</td>\n",
       "      <td>1863.0</td>\n",
       "      <td>0.676</td>\n",
       "      <td>154781</td>\n",
       "      <td>3.16</td>\n",
       "    </tr>\n",
       "    <tr>\n",
       "      <th>5</th>\n",
       "      <td>2021-10-26</td>\n",
       "      <td>Alabama</td>\n",
       "      <td>4779470</td>\n",
       "      <td>7069650.0</td>\n",
       "      <td>2653566</td>\n",
       "      <td>44</td>\n",
       "      <td>97</td>\n",
       "      <td>2179242.0</td>\n",
       "      <td>54.12</td>\n",
       "      <td>144.18</td>\n",
       "      <td>5742.0</td>\n",
       "      <td>9345.0</td>\n",
       "      <td>1906.0</td>\n",
       "      <td>0.676</td>\n",
       "      <td>157914</td>\n",
       "      <td>3.22</td>\n",
       "    </tr>\n",
       "    <tr>\n",
       "      <th>6</th>\n",
       "      <td>2021-10-27</td>\n",
       "      <td>Alabama</td>\n",
       "      <td>4805213</td>\n",
       "      <td>7123260.0</td>\n",
       "      <td>2659115</td>\n",
       "      <td>44</td>\n",
       "      <td>98</td>\n",
       "      <td>2183682.0</td>\n",
       "      <td>54.23</td>\n",
       "      <td>145.28</td>\n",
       "      <td>25743.0</td>\n",
       "      <td>11756.0</td>\n",
       "      <td>2398.0</td>\n",
       "      <td>0.675</td>\n",
       "      <td>173615</td>\n",
       "      <td>3.54</td>\n",
       "    </tr>\n",
       "    <tr>\n",
       "      <th>7</th>\n",
       "      <td>2021-10-28</td>\n",
       "      <td>Alabama</td>\n",
       "      <td>4827200</td>\n",
       "      <td>7163060.0</td>\n",
       "      <td>2663952</td>\n",
       "      <td>44</td>\n",
       "      <td>98</td>\n",
       "      <td>2187378.0</td>\n",
       "      <td>54.33</td>\n",
       "      <td>146.09</td>\n",
       "      <td>21987.0</td>\n",
       "      <td>13482.0</td>\n",
       "      <td>2750.0</td>\n",
       "      <td>0.674</td>\n",
       "      <td>186912</td>\n",
       "      <td>3.81</td>\n",
       "    </tr>\n",
       "    <tr>\n",
       "      <th>8</th>\n",
       "      <td>2021-10-29</td>\n",
       "      <td>Alabama</td>\n",
       "      <td>4847422</td>\n",
       "      <td>7220460.0</td>\n",
       "      <td>2668028</td>\n",
       "      <td>44</td>\n",
       "      <td>98</td>\n",
       "      <td>2190701.0</td>\n",
       "      <td>54.41</td>\n",
       "      <td>147.26</td>\n",
       "      <td>20222.0</td>\n",
       "      <td>14997.0</td>\n",
       "      <td>3059.0</td>\n",
       "      <td>0.671</td>\n",
       "      <td>199742</td>\n",
       "      <td>4.07</td>\n",
       "    </tr>\n",
       "    <tr>\n",
       "      <th>9</th>\n",
       "      <td>2021-10-30</td>\n",
       "      <td>Alabama</td>\n",
       "      <td>4866607</td>\n",
       "      <td>7264740.0</td>\n",
       "      <td>2672040</td>\n",
       "      <td>44</td>\n",
       "      <td>99</td>\n",
       "      <td>2194074.0</td>\n",
       "      <td>54.5</td>\n",
       "      <td>148.16</td>\n",
       "      <td>19185.0</td>\n",
       "      <td>15237.0</td>\n",
       "      <td>3108.0</td>\n",
       "      <td>0.67</td>\n",
       "      <td>211878</td>\n",
       "      <td>4.32</td>\n",
       "    </tr>\n",
       "  </tbody>\n",
       "</table>\n",
       "</div>"
      ],
      "text/plain": [
       "         date location  total_vaccinations total_distributed  \\\n",
       "0  2021-10-21  Alabama             4732829         6999770.0   \n",
       "1  2021-10-22  Alabama             4742444         7045270.0   \n",
       "2  2021-10-23  Alabama             4759947         7062480.0   \n",
       "3  2021-10-24  Alabama             4766186         7061780.0   \n",
       "4  2021-10-25  Alabama             4773728         7058840.0   \n",
       "5  2021-10-26  Alabama             4779470         7069650.0   \n",
       "6  2021-10-27  Alabama             4805213         7123260.0   \n",
       "7  2021-10-28  Alabama             4827200         7163060.0   \n",
       "8  2021-10-29  Alabama             4847422         7220460.0   \n",
       "9  2021-10-30  Alabama             4866607         7264740.0   \n",
       "\n",
       "   people_vaccinated  people_fully_vaccinated_per_hundred  \\\n",
       "0            2637734                                   44   \n",
       "1            2644229                                   44   \n",
       "2            2648588                                   44   \n",
       "3            2650133                                   44   \n",
       "4            2652037                                   44   \n",
       "5            2653566                                   44   \n",
       "6            2659115                                   44   \n",
       "7            2663952                                   44   \n",
       "8            2668028                                   44   \n",
       "9            2672040                                   44   \n",
       "\n",
       "   total_vaccinations_per_hundred people_fully_vaccinated  \\\n",
       "0                              96               2165154.0   \n",
       "1                              96               2170323.0   \n",
       "2                              97               2174923.0   \n",
       "3                              97               2176540.0   \n",
       "4                              97               2177980.0   \n",
       "5                              97               2179242.0   \n",
       "6                              98               2183682.0   \n",
       "7                              98               2187378.0   \n",
       "8                              98               2190701.0   \n",
       "9                              99               2194074.0   \n",
       "\n",
       "  people_vaccinated_per_hundred distributed_per_hundred  \\\n",
       "0                          53.8                  142.76   \n",
       "1                         53.93                  143.69   \n",
       "2                         54.02                  144.04   \n",
       "3                         54.05                  144.02   \n",
       "4                         54.09                  143.96   \n",
       "5                         54.12                  144.18   \n",
       "6                         54.23                  145.28   \n",
       "7                         54.33                  146.09   \n",
       "8                         54.41                  147.26   \n",
       "9                          54.5                  148.16   \n",
       "\n",
       "  daily_vaccinations_raw daily_vaccinations daily_vaccinations_per_million  \\\n",
       "0                 9910.0             9029.0                         1841.0   \n",
       "1                 9615.0             9226.0                         1882.0   \n",
       "2                17503.0            10252.0                         2091.0   \n",
       "3                 6239.0             8961.0                         1828.0   \n",
       "4                 7542.0             9136.0                         1863.0   \n",
       "5                 5742.0             9345.0                         1906.0   \n",
       "6                25743.0            11756.0                         2398.0   \n",
       "7                21987.0            13482.0                         2750.0   \n",
       "8                20222.0            14997.0                         3059.0   \n",
       "9                19185.0            15237.0                         3108.0   \n",
       "\n",
       "  share_doses_used total_boosters total_boosters_per_hundred  \n",
       "0            0.676         134615                       2.75  \n",
       "1            0.673         138996                       2.83  \n",
       "2            0.674         147525                       3.01  \n",
       "3            0.675         150656                       3.07  \n",
       "4            0.676         154781                       3.16  \n",
       "5            0.676         157914                       3.22  \n",
       "6            0.675         173615                       3.54  \n",
       "7            0.674         186912                       3.81  \n",
       "8            0.671         199742                       4.07  \n",
       "9             0.67         211878                       4.32  "
      ]
     },
     "execution_count": 323,
     "metadata": {},
     "output_type": "execute_result"
    }
   ],
   "source": [
    "#Displays the first 10 rows of dataframe 1 \n",
    "df1.limit(10).toPandas()"
   ]
  },
  {
   "cell_type": "code",
   "execution_count": 324,
   "id": "988671c4",
   "metadata": {},
   "outputs": [
    {
     "data": {
      "text/html": [
       "<div>\n",
       "<style scoped>\n",
       "    .dataframe tbody tr th:only-of-type {\n",
       "        vertical-align: middle;\n",
       "    }\n",
       "\n",
       "    .dataframe tbody tr th {\n",
       "        vertical-align: top;\n",
       "    }\n",
       "\n",
       "    .dataframe thead th {\n",
       "        text-align: right;\n",
       "    }\n",
       "</style>\n",
       "<table border=\"1\" class=\"dataframe\">\n",
       "  <thead>\n",
       "    <tr style=\"text-align: right;\">\n",
       "      <th></th>\n",
       "      <th>submission_date</th>\n",
       "      <th>state</th>\n",
       "      <th>tot_cases</th>\n",
       "      <th>conf_cases</th>\n",
       "      <th>prob_cases</th>\n",
       "      <th>new_case</th>\n",
       "      <th>pnew_case</th>\n",
       "      <th>tot_death</th>\n",
       "      <th>conf_death</th>\n",
       "      <th>prob_death</th>\n",
       "      <th>new_death</th>\n",
       "      <th>pnew_death</th>\n",
       "      <th>created_at</th>\n",
       "      <th>consent_cases</th>\n",
       "      <th>consent_deaths</th>\n",
       "    </tr>\n",
       "  </thead>\n",
       "  <tbody>\n",
       "    <tr>\n",
       "      <th>0</th>\n",
       "      <td>03/18/2020</td>\n",
       "      <td>ME</td>\n",
       "      <td>44</td>\n",
       "      <td>44</td>\n",
       "      <td>0</td>\n",
       "      <td>12</td>\n",
       "      <td>0</td>\n",
       "      <td>0</td>\n",
       "      <td>0</td>\n",
       "      <td>0</td>\n",
       "      <td>0</td>\n",
       "      <td>0</td>\n",
       "      <td>03/20/2020 12:00:00 AM</td>\n",
       "      <td>Agree</td>\n",
       "      <td>Agree</td>\n",
       "    </tr>\n",
       "    <tr>\n",
       "      <th>1</th>\n",
       "      <td>10/06/2021</td>\n",
       "      <td>DE</td>\n",
       "      <td>134690</td>\n",
       "      <td>124148</td>\n",
       "      <td>10542</td>\n",
       "      <td>444</td>\n",
       "      <td>45</td>\n",
       "      <td>1977</td>\n",
       "      <td>1810</td>\n",
       "      <td>167</td>\n",
       "      <td>2</td>\n",
       "      <td>0</td>\n",
       "      <td>10/08/2021 12:00:00 AM</td>\n",
       "      <td>Agree</td>\n",
       "      <td>Agree</td>\n",
       "    </tr>\n",
       "    <tr>\n",
       "      <th>2</th>\n",
       "      <td>06/15/2020</td>\n",
       "      <td>WI</td>\n",
       "      <td>25480</td>\n",
       "      <td>22932</td>\n",
       "      <td>2548</td>\n",
       "      <td>185</td>\n",
       "      <td>11</td>\n",
       "      <td>700</td>\n",
       "      <td>694</td>\n",
       "      <td>6</td>\n",
       "      <td>2</td>\n",
       "      <td>0</td>\n",
       "      <td>06/16/2020 02:10:11 PM</td>\n",
       "      <td>Agree</td>\n",
       "      <td>Agree</td>\n",
       "    </tr>\n",
       "    <tr>\n",
       "      <th>3</th>\n",
       "      <td>12/25/2021</td>\n",
       "      <td>MS</td>\n",
       "      <td>525502</td>\n",
       "      <td>299857</td>\n",
       "      <td>225645</td>\n",
       "      <td>0</td>\n",
       "      <td>0</td>\n",
       "      <td>10393</td>\n",
       "      <td>6958</td>\n",
       "      <td>3435</td>\n",
       "      <td>0</td>\n",
       "      <td>0</td>\n",
       "      <td>12/27/2021 02:16:24 PM</td>\n",
       "      <td>Agree</td>\n",
       "      <td>Agree</td>\n",
       "    </tr>\n",
       "    <tr>\n",
       "      <th>4</th>\n",
       "      <td>07/06/2020</td>\n",
       "      <td>AL</td>\n",
       "      <td>44854</td>\n",
       "      <td>44350</td>\n",
       "      <td>504</td>\n",
       "      <td>903</td>\n",
       "      <td>12</td>\n",
       "      <td>1473</td>\n",
       "      <td>1358</td>\n",
       "      <td>115</td>\n",
       "      <td>17</td>\n",
       "      <td>2</td>\n",
       "      <td>07/08/2020 12:00:00 AM</td>\n",
       "      <td>Agree</td>\n",
       "      <td>Agree</td>\n",
       "    </tr>\n",
       "    <tr>\n",
       "      <th>5</th>\n",
       "      <td>06/12/2021</td>\n",
       "      <td>ME</td>\n",
       "      <td>68578</td>\n",
       "      <td>50293</td>\n",
       "      <td>18285</td>\n",
       "      <td>39</td>\n",
       "      <td>16</td>\n",
       "      <td>845</td>\n",
       "      <td>817</td>\n",
       "      <td>28</td>\n",
       "      <td>0</td>\n",
       "      <td>0</td>\n",
       "      <td>06/14/2021 12:00:00 AM</td>\n",
       "      <td>Agree</td>\n",
       "      <td>Agree</td>\n",
       "    </tr>\n",
       "    <tr>\n",
       "      <th>6</th>\n",
       "      <td>01/01/2022</td>\n",
       "      <td>WI</td>\n",
       "      <td>1120669</td>\n",
       "      <td>994535</td>\n",
       "      <td>126134</td>\n",
       "      <td>0</td>\n",
       "      <td>0</td>\n",
       "      <td>11173</td>\n",
       "      <td>10063</td>\n",
       "      <td>1110</td>\n",
       "      <td>0</td>\n",
       "      <td>0</td>\n",
       "      <td>01/03/2022 01:55:55 PM</td>\n",
       "      <td>Agree</td>\n",
       "      <td>Agree</td>\n",
       "    </tr>\n",
       "    <tr>\n",
       "      <th>7</th>\n",
       "      <td>02/14/2021</td>\n",
       "      <td>CT</td>\n",
       "      <td>267337</td>\n",
       "      <td>250915</td>\n",
       "      <td>16422</td>\n",
       "      <td>0</td>\n",
       "      <td>0</td>\n",
       "      <td>7381</td>\n",
       "      <td>6049</td>\n",
       "      <td>1332</td>\n",
       "      <td>0</td>\n",
       "      <td>0</td>\n",
       "      <td>02/15/2021 02:46:24 PM</td>\n",
       "      <td>Agree</td>\n",
       "      <td>Agree</td>\n",
       "    </tr>\n",
       "    <tr>\n",
       "      <th>8</th>\n",
       "      <td>07/16/2021</td>\n",
       "      <td>DE</td>\n",
       "      <td>109472</td>\n",
       "      <td>102240</td>\n",
       "      <td>7232</td>\n",
       "      <td>40</td>\n",
       "      <td>14</td>\n",
       "      <td>1697</td>\n",
       "      <td>1551</td>\n",
       "      <td>146</td>\n",
       "      <td>1</td>\n",
       "      <td>0</td>\n",
       "      <td>07/18/2021 12:00:00 AM</td>\n",
       "      <td>Agree</td>\n",
       "      <td>Agree</td>\n",
       "    </tr>\n",
       "    <tr>\n",
       "      <th>9</th>\n",
       "      <td>01/30/2022</td>\n",
       "      <td>MI</td>\n",
       "      <td>2235180</td>\n",
       "      <td>1959371</td>\n",
       "      <td>275809</td>\n",
       "      <td>0</td>\n",
       "      <td>0</td>\n",
       "      <td>32197</td>\n",
       "      <td>29778</td>\n",
       "      <td>2419</td>\n",
       "      <td>0</td>\n",
       "      <td>0</td>\n",
       "      <td>01/31/2022 04:55:36 PM</td>\n",
       "      <td>Agree</td>\n",
       "      <td>Agree</td>\n",
       "    </tr>\n",
       "  </tbody>\n",
       "</table>\n",
       "</div>"
      ],
      "text/plain": [
       "  submission_date state tot_cases conf_cases prob_cases new_case pnew_case  \\\n",
       "0      03/18/2020    ME        44         44          0       12         0   \n",
       "1      10/06/2021    DE    134690     124148      10542      444        45   \n",
       "2      06/15/2020    WI     25480      22932       2548      185        11   \n",
       "3      12/25/2021    MS    525502     299857     225645        0         0   \n",
       "4      07/06/2020    AL     44854      44350        504      903        12   \n",
       "5      06/12/2021    ME     68578      50293      18285       39        16   \n",
       "6      01/01/2022    WI   1120669     994535     126134        0         0   \n",
       "7      02/14/2021    CT    267337     250915      16422        0         0   \n",
       "8      07/16/2021    DE    109472     102240       7232       40        14   \n",
       "9      01/30/2022    MI   2235180    1959371     275809        0         0   \n",
       "\n",
       "   tot_death conf_death prob_death new_death pnew_death  \\\n",
       "0          0          0          0         0          0   \n",
       "1       1977       1810        167         2          0   \n",
       "2        700        694          6         2          0   \n",
       "3      10393       6958       3435         0          0   \n",
       "4       1473       1358        115        17          2   \n",
       "5        845        817         28         0          0   \n",
       "6      11173      10063       1110         0          0   \n",
       "7       7381       6049       1332         0          0   \n",
       "8       1697       1551        146         1          0   \n",
       "9      32197      29778       2419         0          0   \n",
       "\n",
       "               created_at consent_cases consent_deaths  \n",
       "0  03/20/2020 12:00:00 AM         Agree          Agree  \n",
       "1  10/08/2021 12:00:00 AM         Agree          Agree  \n",
       "2  06/16/2020 02:10:11 PM         Agree          Agree  \n",
       "3  12/27/2021 02:16:24 PM         Agree          Agree  \n",
       "4  07/08/2020 12:00:00 AM         Agree          Agree  \n",
       "5  06/14/2021 12:00:00 AM         Agree          Agree  \n",
       "6  01/03/2022 01:55:55 PM         Agree          Agree  \n",
       "7  02/15/2021 02:46:24 PM         Agree          Agree  \n",
       "8  07/18/2021 12:00:00 AM         Agree          Agree  \n",
       "9  01/31/2022 04:55:36 PM         Agree          Agree  "
      ]
     },
     "execution_count": 324,
     "metadata": {},
     "output_type": "execute_result"
    }
   ],
   "source": [
    "#Displays the first 10 rows of dataframe 2\n",
    "df2.limit(10).toPandas()"
   ]
  },
  {
   "cell_type": "code",
   "execution_count": 325,
   "id": "b3147161",
   "metadata": {},
   "outputs": [],
   "source": [
    "#getting rid of unused columns for dataset1\n",
    "df_matches1_drop = df1.drop('total_boosters_per_hundred',\n",
    "                                    'total_boosters',\n",
    "                                   'share_doses_used',\n",
    "                                    'daily_vaccinations_raw',\n",
    "                                   )"
   ]
  },
  {
   "cell_type": "code",
   "execution_count": 326,
   "id": "61e13a86",
   "metadata": {},
   "outputs": [],
   "source": [
    "#getting rid of unused colums for dataset2\n",
    "df_matches2_drop = df_matches2.drop('consent_deaths',\n",
    "                                  'consent_cases',\n",
    "                                  'created_at',\n",
    "                                  'pnew_death',\n",
    "                                  'prob_death',\n",
    "                                  'conf_death',\n",
    "                                  'pnew_case',\n",
    "                                 'conf_death',\n",
    "                                 'prob_cases')"
   ]
  },
  {
   "cell_type": "code",
   "execution_count": 327,
   "id": "dbf83c66",
   "metadata": {},
   "outputs": [],
   "source": [
    "#dropping locations that are outside of the United States\n",
    "df1_new = df_matches1.where(df_matches1.location != 'Republic of Palau')\n",
    "df2_new = df1_new.where(df1_new.location != 'Federated States of Micronesia')\n",
    "df3_new = df2_new.where(df2_new.location != 'Marshall Islands')\n",
    "df4_new = df3_new.where(df3_new.location != 'Virgin Islands')\n",
    "df5_new = df4_new.where(df4_new.location != 'American Samoa')\n",
    "df6_new = df5_new.where(df5_new.location != 'Guam')\n",
    "df7_new = df6_new.where(df6_new.location != 'Bureau of Prisons')\n",
    "df8_new = df7_new.where(df7_new.location != 'Dept of Defense')\n",
    "df9_new = df8_new.where(df8_new.location != 'Puerto Rico')\n",
    "df10_new = df9_new.where(df9_new.location != 'District of Columbia')\n",
    "df11_new = df10_new.where(df10_new.location != 'Indian Health Svc')\n",
    "df11_new = df10_new.where(df10_new.location != 'Indian Health Svc')"
   ]
  },
  {
   "cell_type": "code",
   "execution_count": 328,
   "id": "49f48219",
   "metadata": {},
   "outputs": [
    {
     "name": "stdout",
     "output_type": "stream",
     "text": [
      "+-------+--------------------+\n",
      "|summary|  total_vaccinations|\n",
      "+-------+--------------------+\n",
      "|  count|               21889|\n",
      "|   mean|1.2364101469505232E7|\n",
      "| stddev| 4.963006352150097E7|\n",
      "|    min|                3722|\n",
      "|    max|           563999093|\n",
      "+-------+--------------------+\n",
      "\n"
     ]
    }
   ],
   "source": [
    "#calculating some statistical data for spark df1 for total vaccinations\n",
    "df11_new.select('total_vaccinations').describe().show()"
   ]
  },
  {
   "cell_type": "code",
   "execution_count": 329,
   "id": "c3484533",
   "metadata": {
    "scrolled": true
   },
   "outputs": [
    {
     "name": "stdout",
     "output_type": "stream",
     "text": [
      "+-------+------------------+\n",
      "|summary|         tot_death|\n",
      "+-------+------------------+\n",
      "|  count|             21951|\n",
      "|   mean| 8853.572411279669|\n",
      "| stddev|11131.980887238053|\n",
      "|    min|                 0|\n",
      "|    max|             71408|\n",
      "+-------+------------------+\n",
      "\n"
     ]
    }
   ],
   "source": [
    "#calculating some statistical data for spark df2 for total death\n",
    "df2.select('tot_death').describe().show()"
   ]
  },
  {
   "cell_type": "code",
   "execution_count": 330,
   "id": "67cb94f2",
   "metadata": {},
   "outputs": [
    {
     "data": {
      "text/html": [
       "<div>\n",
       "<style scoped>\n",
       "    .dataframe tbody tr th:only-of-type {\n",
       "        vertical-align: middle;\n",
       "    }\n",
       "\n",
       "    .dataframe tbody tr th {\n",
       "        vertical-align: top;\n",
       "    }\n",
       "\n",
       "    .dataframe thead th {\n",
       "        text-align: right;\n",
       "    }\n",
       "</style>\n",
       "<table border=\"1\" class=\"dataframe\">\n",
       "  <thead>\n",
       "    <tr style=\"text-align: right;\">\n",
       "      <th></th>\n",
       "      <th>location</th>\n",
       "    </tr>\n",
       "  </thead>\n",
       "  <tbody>\n",
       "    <tr>\n",
       "      <th>0</th>\n",
       "      <td>Alabama</td>\n",
       "    </tr>\n",
       "    <tr>\n",
       "      <th>1</th>\n",
       "      <td>Alabama</td>\n",
       "    </tr>\n",
       "    <tr>\n",
       "      <th>2</th>\n",
       "      <td>Alabama</td>\n",
       "    </tr>\n",
       "    <tr>\n",
       "      <th>3</th>\n",
       "      <td>Alabama</td>\n",
       "    </tr>\n",
       "    <tr>\n",
       "      <th>4</th>\n",
       "      <td>Alabama</td>\n",
       "    </tr>\n",
       "    <tr>\n",
       "      <th>...</th>\n",
       "      <td>...</td>\n",
       "    </tr>\n",
       "    <tr>\n",
       "      <th>24190</th>\n",
       "      <td>Wyoming</td>\n",
       "    </tr>\n",
       "    <tr>\n",
       "      <th>24191</th>\n",
       "      <td>Wyoming</td>\n",
       "    </tr>\n",
       "    <tr>\n",
       "      <th>24192</th>\n",
       "      <td>Wyoming</td>\n",
       "    </tr>\n",
       "    <tr>\n",
       "      <th>24193</th>\n",
       "      <td>Wyoming</td>\n",
       "    </tr>\n",
       "    <tr>\n",
       "      <th>24194</th>\n",
       "      <td>Wyoming</td>\n",
       "    </tr>\n",
       "  </tbody>\n",
       "</table>\n",
       "<p>24195 rows × 1 columns</p>\n",
       "</div>"
      ],
      "text/plain": [
       "      location\n",
       "0      Alabama\n",
       "1      Alabama\n",
       "2      Alabama\n",
       "3      Alabama\n",
       "4      Alabama\n",
       "...        ...\n",
       "24190  Wyoming\n",
       "24191  Wyoming\n",
       "24192  Wyoming\n",
       "24193  Wyoming\n",
       "24194  Wyoming\n",
       "\n",
       "[24195 rows x 1 columns]"
      ]
     },
     "execution_count": 330,
     "metadata": {},
     "output_type": "execute_result"
    }
   ],
   "source": [
    "#Displaying all locations in the spark df1 \n",
    "df11_new.select('location').toPandas()"
   ]
  },
  {
   "cell_type": "markdown",
   "id": "05a570c7",
   "metadata": {},
   "source": [
    "# 2. Analyzing COVID-19 Vaccination Rates in the U.S.\n"
   ]
  },
  {
   "cell_type": "markdown",
   "id": "3e571dff",
   "metadata": {},
   "source": [
    "We can see that there have been 563,999,093 total COVID-19 vaccination doses given and 255.975,678 total people fully vaccinated in the United States."
   ]
  },
  {
   "cell_type": "code",
   "execution_count": 331,
   "id": "55206611",
   "metadata": {},
   "outputs": [
    {
     "name": "stdout",
     "output_type": "stream",
     "text": [
      "+-----------------------+\n",
      "|max(total_vaccinations)|\n",
      "+-----------------------+\n",
      "|              563999093|\n",
      "+-----------------------+\n",
      "\n"
     ]
    },
    {
     "data": {
      "text/html": [
       "<div>\n",
       "<style scoped>\n",
       "    .dataframe tbody tr th:only-of-type {\n",
       "        vertical-align: middle;\n",
       "    }\n",
       "\n",
       "    .dataframe tbody tr th {\n",
       "        vertical-align: top;\n",
       "    }\n",
       "\n",
       "    .dataframe thead th {\n",
       "        text-align: right;\n",
       "    }\n",
       "</style>\n",
       "<table border=\"1\" class=\"dataframe\">\n",
       "  <thead>\n",
       "    <tr style=\"text-align: right;\">\n",
       "      <th></th>\n",
       "      <th>date</th>\n",
       "      <th>location</th>\n",
       "      <th>total_vaccinations</th>\n",
       "    </tr>\n",
       "  </thead>\n",
       "  <tbody>\n",
       "    <tr>\n",
       "      <th>25096</th>\n",
       "      <td>2022-04-07</td>\n",
       "      <td>United States</td>\n",
       "      <td>563999093.0</td>\n",
       "    </tr>\n",
       "  </tbody>\n",
       "</table>\n",
       "</div>"
      ],
      "text/plain": [
       "             date       location  total_vaccinations\n",
       "25096  2022-04-07  United States         563999093.0"
      ]
     },
     "execution_count": 331,
     "metadata": {},
     "output_type": "execute_result"
    }
   ],
   "source": [
    "#Aggregates over column total_vaccination of spark df1\n",
    "max_value = df11_new.agg({'total_vaccinations': 'max'}).show()\n",
    "#Finds max for total_vaccination column of pandas df1\n",
    "plot1[plot1[\"total_vaccinations\"] == plot1[\"total_vaccinations\"].max()][[\"date\", \"location\",\"total_vaccinations\"]]"
   ]
  },
  {
   "cell_type": "code",
   "execution_count": 332,
   "id": "ae1540d2",
   "metadata": {},
   "outputs": [
    {
     "name": "stdout",
     "output_type": "stream",
     "text": [
      "+----------------------+\n",
      "|max(people_vaccinated)|\n",
      "+----------------------+\n",
      "|             255975678|\n",
      "+----------------------+\n",
      "\n"
     ]
    },
    {
     "data": {
      "text/html": [
       "<div>\n",
       "<style scoped>\n",
       "    .dataframe tbody tr th:only-of-type {\n",
       "        vertical-align: middle;\n",
       "    }\n",
       "\n",
       "    .dataframe tbody tr th {\n",
       "        vertical-align: top;\n",
       "    }\n",
       "\n",
       "    .dataframe thead th {\n",
       "        text-align: right;\n",
       "    }\n",
       "</style>\n",
       "<table border=\"1\" class=\"dataframe\">\n",
       "  <thead>\n",
       "    <tr style=\"text-align: right;\">\n",
       "      <th></th>\n",
       "      <th>date</th>\n",
       "      <th>location</th>\n",
       "      <th>people_vaccinated</th>\n",
       "    </tr>\n",
       "  </thead>\n",
       "  <tbody>\n",
       "    <tr>\n",
       "      <th>25096</th>\n",
       "      <td>2022-04-07</td>\n",
       "      <td>United States</td>\n",
       "      <td>255975678.0</td>\n",
       "    </tr>\n",
       "  </tbody>\n",
       "</table>\n",
       "</div>"
      ],
      "text/plain": [
       "             date       location  people_vaccinated\n",
       "25096  2022-04-07  United States        255975678.0"
      ]
     },
     "execution_count": 332,
     "metadata": {},
     "output_type": "execute_result"
    }
   ],
   "source": [
    "#Aggregates over column people_vaccinated of spark df1\n",
    "df11_new.agg({'people_vaccinated':'max'}).show()\n",
    "#Finds max for people vaccinated column of pandas df1\n",
    "plot1[plot1[\"people_vaccinated\"] == plot1[\"people_vaccinated\"].max()][[\"date\", \"location\",\"people_vaccinated\"]]"
   ]
  },
  {
   "cell_type": "markdown",
   "id": "ab4fa35d",
   "metadata": {},
   "source": [
    "In our dataset, the state with the highest number of COVID-19 vaccine doses administered is California."
   ]
  },
  {
   "cell_type": "code",
   "execution_count": 333,
   "id": "fc1d9c36",
   "metadata": {},
   "outputs": [
    {
     "name": "stdout",
     "output_type": "stream",
     "text": [
      "+----------------------+\n",
      "|max(people_vaccinated)|\n",
      "+----------------------+\n",
      "|              32670894|\n",
      "+----------------------+\n",
      "\n"
     ]
    },
    {
     "data": {
      "text/html": [
       "<div>\n",
       "<style scoped>\n",
       "    .dataframe tbody tr th:only-of-type {\n",
       "        vertical-align: middle;\n",
       "    }\n",
       "\n",
       "    .dataframe tbody tr th {\n",
       "        vertical-align: top;\n",
       "    }\n",
       "\n",
       "    .dataframe thead th {\n",
       "        text-align: right;\n",
       "    }\n",
       "</style>\n",
       "<table border=\"1\" class=\"dataframe\">\n",
       "  <thead>\n",
       "    <tr style=\"text-align: right;\">\n",
       "      <th></th>\n",
       "      <th>date</th>\n",
       "      <th>location</th>\n",
       "      <th>total_vaccinations</th>\n",
       "    </tr>\n",
       "  </thead>\n",
       "  <tbody>\n",
       "    <tr>\n",
       "      <th>3156</th>\n",
       "      <td>2022-04-07</td>\n",
       "      <td>California</td>\n",
       "      <td>73084268.0</td>\n",
       "    </tr>\n",
       "  </tbody>\n",
       "</table>\n",
       "</div>"
      ],
      "text/plain": [
       "            date    location  total_vaccinations\n",
       "3156  2022-04-07  California          73084268.0"
      ]
     },
     "execution_count": 333,
     "metadata": {},
     "output_type": "execute_result"
    }
   ],
   "source": [
    "#Aggregates over column people_vaccinated of spark df1 not in US\n",
    "data = df_matches1.where(df_matches1.location != 'United States')\n",
    "data.agg({'people_vaccinated': 'max'}).show()\n",
    "\n",
    "#Finds max for people vaccinated column of pandas df1\n",
    "df3 = plot1_new[(plot1_new.location != \"United States\") & (plot1_new.date == \"2022-04-07\")]\n",
    "df3[df3[\"total_vaccinations\"] == df3[\"total_vaccinations\"].max()][[\"date\", \"location\",\"total_vaccinations\"]]"
   ]
  },
  {
   "cell_type": "markdown",
   "id": "b0b110a1",
   "metadata": {},
   "source": [
    "#### US: COVID-19 Vaccine Doses Administered, April 07, 2022. (Top 10 States)"
   ]
  },
  {
   "cell_type": "code",
   "execution_count": 334,
   "id": "1ebfd2f8",
   "metadata": {},
   "outputs": [
    {
     "data": {
      "image/png": "[encoded data removed]",
      "text/plain": [
       "<Figure size 576x396 with 1 Axes>"
      ]
     },
     "metadata": {},
     "output_type": "display_data"
    }
   ],
   "source": [
    "df3 = plot1_new[(plot1_new.location != \"United States\") & (plot1_new.date == \"2022-04-07\")]\n",
    "\n",
    "high_vaccine_df = df3.sort_values('total_vaccinations',ascending=False)[:10]\n",
    "high_vaccine = high_vaccine_df[['location', 'total_vaccinations']]\n",
    "\n",
    "#plots bar graph\n",
    "expensiveplot = sns.barplot(x = 'location',y='total_vaccinations', data=high_vaccine, palette=\"Spectral\")\n",
    "expensiveplot.set_xticklabels(expensiveplot.get_xticklabels(), rotation=40, ha=\"right\")\n",
    "expensiveplot.set(xlabel='States', ylabel='Total Vaccine Doses')\n",
    "\n",
    "plt.ticklabel_format(style='plain', axis='y')\n",
    "plt.show()"
   ]
  },
  {
   "cell_type": "markdown",
   "id": "aad66f9f",
   "metadata": {},
   "source": [
    "#### US: COVID-19 Vaccine Doses Administered, April 07, 2022. (Bottom 10 States)"
   ]
  },
  {
   "cell_type": "code",
   "execution_count": 335,
   "id": "e68c7c4b",
   "metadata": {},
   "outputs": [
    {
     "data": {
      "image/png": "[encoded data removed]",
      "text/plain": [
       "<Figure size 576x396 with 1 Axes>"
      ]
     },
     "metadata": {},
     "output_type": "display_data"
    }
   ],
   "source": [
    "#sorts people vaccinated values from descending order\n",
    "high_vaccine_df = df3.sort_values('total_vaccinations',ascending=True)[:10]\n",
    "high_vaccine2 = high_vaccine_df[['location', 'total_vaccinations']]\n",
    "\n",
    "#plots bar graph\n",
    "expensiveplot = sns.barplot(x = 'location',y='total_vaccinations', data=high_vaccine2, palette=\"Spectral\")\n",
    "expensiveplot.set_xticklabels(expensiveplot.get_xticklabels(), rotation=40, ha=\"right\")\n",
    "expensiveplot.set(xlabel='States', ylabel='Total Vaccine Doses')\n",
    "\n",
    "plt.ticklabel_format(style='plain', axis='y')\n",
    "plt.show()"
   ]
  },
  {
   "cell_type": "markdown",
   "id": "257c651d",
   "metadata": {},
   "source": [
    "### However, to get a more accurate estimation and analysis, we need to compare rates per hundred people so that it takes into account the state's population. "
   ]
  },
  {
   "cell_type": "markdown",
   "id": "522b6493",
   "metadata": {},
   "source": [
    "Rhode Island has the highest percentage of its population fully vaccinated."
   ]
  },
  {
   "cell_type": "code",
   "execution_count": 336,
   "id": "323e2dce",
   "metadata": {},
   "outputs": [
    {
     "name": "stdout",
     "output_type": "stream",
     "text": [
      "+----------------------------------------+\n",
      "|max(people_fully_vaccinated_per_hundred)|\n",
      "+----------------------------------------+\n",
      "|                                      83|\n",
      "+----------------------------------------+\n",
      "\n"
     ]
    },
    {
     "data": {
      "text/html": [
       "<div>\n",
       "<style scoped>\n",
       "    .dataframe tbody tr th:only-of-type {\n",
       "        vertical-align: middle;\n",
       "    }\n",
       "\n",
       "    .dataframe tbody tr th {\n",
       "        vertical-align: top;\n",
       "    }\n",
       "\n",
       "    .dataframe thead th {\n",
       "        text-align: right;\n",
       "    }\n",
       "</style>\n",
       "<table border=\"1\" class=\"dataframe\">\n",
       "  <thead>\n",
       "    <tr style=\"text-align: right;\">\n",
       "      <th></th>\n",
       "      <th>date</th>\n",
       "      <th>location</th>\n",
       "      <th>people_fully_vaccinated_per_hundred</th>\n",
       "    </tr>\n",
       "  </thead>\n",
       "  <tbody>\n",
       "    <tr>\n",
       "      <th>22818</th>\n",
       "      <td>2022-04-07</td>\n",
       "      <td>Rhode Island</td>\n",
       "      <td>81.83</td>\n",
       "    </tr>\n",
       "  </tbody>\n",
       "</table>\n",
       "</div>"
      ],
      "text/plain": [
       "             date      location  people_fully_vaccinated_per_hundred\n",
       "22818  2022-04-07  Rhode Island                                81.83"
      ]
     },
     "execution_count": 336,
     "metadata": {},
     "output_type": "execute_result"
    }
   ],
   "source": [
    "#finding max of spark dataframe of people fully vaccinated per hundred\n",
    "df11_new.agg({'people_fully_vaccinated_per_hundred':'max'}).show()\n",
    "\n",
    "#finding max of pandas dataframe of people fully vaccinated per hundred\n",
    "plot1_new[plot1_new[\"people_fully_vaccinated_per_hundred\"] == plot1_new[\"people_fully_vaccinated_per_hundred\"].max()][[\"date\", \"location\",\"people_fully_vaccinated_per_hundred\"]]"
   ]
  },
  {
   "cell_type": "markdown",
   "id": "93822683",
   "metadata": {},
   "source": [
    "Alabama has the lowest percentage of its population fully vaccinated. "
   ]
  },
  {
   "cell_type": "code",
   "execution_count": 337,
   "id": "f899d1a4",
   "metadata": {},
   "outputs": [
    {
     "data": {
      "text/html": [
       "<div>\n",
       "<style scoped>\n",
       "    .dataframe tbody tr th:only-of-type {\n",
       "        vertical-align: middle;\n",
       "    }\n",
       "\n",
       "    .dataframe tbody tr th {\n",
       "        vertical-align: top;\n",
       "    }\n",
       "\n",
       "    .dataframe thead th {\n",
       "        text-align: right;\n",
       "    }\n",
       "</style>\n",
       "<table border=\"1\" class=\"dataframe\">\n",
       "  <thead>\n",
       "    <tr style=\"text-align: right;\">\n",
       "      <th></th>\n",
       "      <th>date</th>\n",
       "      <th>location</th>\n",
       "      <th>people_fully_vaccinated_per_hundred</th>\n",
       "    </tr>\n",
       "  </thead>\n",
       "  <tbody>\n",
       "    <tr>\n",
       "      <th>450</th>\n",
       "      <td>2022-04-07</td>\n",
       "      <td>Alabama</td>\n",
       "      <td>50.76</td>\n",
       "    </tr>\n",
       "  </tbody>\n",
       "</table>\n",
       "</div>"
      ],
      "text/plain": [
       "           date location  people_fully_vaccinated_per_hundred\n",
       "450  2022-04-07  Alabama                                50.76"
      ]
     },
     "execution_count": 337,
     "metadata": {},
     "output_type": "execute_result"
    }
   ],
   "source": [
    "#finding min of pandas dataframe of people fully vaccinated per hundred\n",
    "df3 = plot1_new[(plot1_new.date == \"2022-04-07\")]\n",
    "df3[df3[\"people_fully_vaccinated_per_hundred\"] == df3[\"people_fully_vaccinated_per_hundred\"].min()][[\"date\", \"location\",\"people_fully_vaccinated_per_hundred\"]]"
   ]
  },
  {
   "cell_type": "markdown",
   "id": "e0c823ca",
   "metadata": {},
   "source": [
    "#### US: COVID-19 Fully Vaccinated People Per Hundred, April 07, 2022. (Top 10 States)"
   ]
  },
  {
   "cell_type": "code",
   "execution_count": 338,
   "id": "a23d9eec",
   "metadata": {},
   "outputs": [
    {
     "data": {
      "image/png": "[encoded data removed]",
      "text/plain": [
       "<Figure size 576x396 with 1 Axes>"
      ]
     },
     "metadata": {},
     "output_type": "display_data"
    }
   ],
   "source": [
    "df3 = plot1_new[(plot1_new.location != \"United States\") & (plot1_new.date == \"2022-04-07\")]\n",
    "\n",
    "#sorts people vaccinated values from descending order\n",
    "high_vaccine_df = df3.sort_values('people_fully_vaccinated_per_hundred',ascending=False)[:10]\n",
    "high_vaccine = high_vaccine_df[['location', 'people_fully_vaccinated_per_hundred']]\n",
    "\n",
    "#plots bar graph\n",
    "expensiveplot = sns.barplot(x = 'location',y='people_fully_vaccinated_per_hundred', data=high_vaccine, palette=\"Spectral\")\n",
    "expensiveplot.set_xticklabels(expensiveplot.get_xticklabels(), rotation=40, ha=\"right\")\n",
    "expensiveplot.set(xlabel='States', ylabel='Total Vaccine Doses')\n",
    "\n",
    "plt.ticklabel_format(style='plain', axis='y')\n",
    "plt.show()"
   ]
  },
  {
   "cell_type": "markdown",
   "id": "cf5455c8",
   "metadata": {},
   "source": [
    "#### US: COVID-19 Fully Vaccinated People Per Hundred, April 07, 2022. (Bottom 10 States)"
   ]
  },
  {
   "cell_type": "code",
   "execution_count": 339,
   "id": "3752280f",
   "metadata": {},
   "outputs": [
    {
     "data": {
      "image/png": "[encoded data removed]",
      "text/plain": [
       "<Figure size 576x396 with 1 Axes>"
      ]
     },
     "metadata": {},
     "output_type": "display_data"
    }
   ],
   "source": [
    "high_vaccine_df = df3.sort_values('people_fully_vaccinated_per_hundred',ascending=True)[:10]\n",
    "high_vaccine4 = high_vaccine_df[['location', 'people_fully_vaccinated_per_hundred']]\n",
    "\n",
    "#plots bar graph\n",
    "expensiveplot = sns.barplot(x = 'location',y='people_fully_vaccinated_per_hundred', data=high_vaccine4, palette=\"Spectral\")\n",
    "expensiveplot.set_xticklabels(expensiveplot.get_xticklabels(), rotation=40, ha=\"right\")\n",
    "expensiveplot.set(xlabel='States', ylabel='People Vaccinated')\n",
    "\n",
    "plt.ticklabel_format(style='plain', axis='y')\n",
    "plt.show()"
   ]
  },
  {
   "cell_type": "markdown",
   "id": "e37a14b2",
   "metadata": {},
   "source": [
    "# 3. Analyzing COVID-19 Total Deaths in the U.S.\n"
   ]
  },
  {
   "cell_type": "markdown",
   "id": "d7ac24d3",
   "metadata": {},
   "source": [
    "We can see that the highest death total is in California, with 88,355 deaths."
   ]
  },
  {
   "cell_type": "code",
   "execution_count": 340,
   "id": "659968a7",
   "metadata": {},
   "outputs": [
    {
     "name": "stdout",
     "output_type": "stream",
     "text": [
      "+--------------+\n",
      "|max(tot_death)|\n",
      "+--------------+\n",
      "|         88355|\n",
      "+--------------+\n",
      "\n"
     ]
    },
    {
     "data": {
      "text/html": [
       "<div>\n",
       "<style scoped>\n",
       "    .dataframe tbody tr th:only-of-type {\n",
       "        vertical-align: middle;\n",
       "    }\n",
       "\n",
       "    .dataframe tbody tr th {\n",
       "        vertical-align: top;\n",
       "    }\n",
       "\n",
       "    .dataframe thead th {\n",
       "        text-align: right;\n",
       "    }\n",
       "</style>\n",
       "<table border=\"1\" class=\"dataframe\">\n",
       "  <thead>\n",
       "    <tr style=\"text-align: right;\">\n",
       "      <th></th>\n",
       "      <th>submission_date</th>\n",
       "      <th>state</th>\n",
       "      <th>tot_death</th>\n",
       "    </tr>\n",
       "  </thead>\n",
       "  <tbody>\n",
       "    <tr>\n",
       "      <th>281</th>\n",
       "      <td>04/06/2022</td>\n",
       "      <td>CA</td>\n",
       "      <td>88355</td>\n",
       "    </tr>\n",
       "    <tr>\n",
       "      <th>35372</th>\n",
       "      <td>04/05/2022</td>\n",
       "      <td>CA</td>\n",
       "      <td>88355</td>\n",
       "    </tr>\n",
       "  </tbody>\n",
       "</table>\n",
       "</div>"
      ],
      "text/plain": [
       "      submission_date state  tot_death\n",
       "281        04/06/2022    CA      88355\n",
       "35372      04/05/2022    CA      88355"
      ]
     },
     "execution_count": 340,
     "metadata": {},
     "output_type": "execute_result"
    }
   ],
   "source": [
    "#Aggregates over column tot_death of spark df2\n",
    "max_value = df_matches2.agg({'tot_death': 'max'}).show()\n",
    "\n",
    "#Finds max for tot_death column of pandas df2\n",
    "plot2[plot2[\"tot_death\"] == plot2[\"tot_death\"].max()][[\"submission_date\", \"state\",\"tot_death\"]]"
   ]
  },
  {
   "cell_type": "markdown",
   "id": "63ad0478",
   "metadata": {},
   "source": [
    "We can see that the lowest death total is in Vermont, with 590 total deaths. "
   ]
  },
  {
   "cell_type": "code",
   "execution_count": 341,
   "id": "9f5922ee",
   "metadata": {},
   "outputs": [
    {
     "data": {
      "text/html": [
       "<div>\n",
       "<style scoped>\n",
       "    .dataframe tbody tr th:only-of-type {\n",
       "        vertical-align: middle;\n",
       "    }\n",
       "\n",
       "    .dataframe tbody tr th {\n",
       "        vertical-align: top;\n",
       "    }\n",
       "\n",
       "    .dataframe thead th {\n",
       "        text-align: right;\n",
       "    }\n",
       "</style>\n",
       "<table border=\"1\" class=\"dataframe\">\n",
       "  <thead>\n",
       "    <tr style=\"text-align: right;\">\n",
       "      <th></th>\n",
       "      <th>submission_date</th>\n",
       "      <th>state</th>\n",
       "      <th>tot_death</th>\n",
       "    </tr>\n",
       "  </thead>\n",
       "  <tbody>\n",
       "    <tr>\n",
       "      <th>5410</th>\n",
       "      <td>04/06/2022</td>\n",
       "      <td>VT</td>\n",
       "      <td>590</td>\n",
       "    </tr>\n",
       "  </tbody>\n",
       "</table>\n",
       "</div>"
      ],
      "text/plain": [
       "     submission_date state  tot_death\n",
       "5410      04/06/2022    VT        590"
      ]
     },
     "execution_count": 341,
     "metadata": {},
     "output_type": "execute_result"
    }
   ],
   "source": [
    "#Filters with conditions, date and locations not in US\n",
    "new = plot2[(plot2.submission_date == \"04/06/2022\") & (plot2.state != 'RMI')& (plot2.state != 'FSM')& (plot2.state != 'PW') & (plot2.state != 'AS')& (plot2.state != 'MP')& (plot2.state != 'VI')& (plot2.state != 'GU')]\n",
    "\n",
    "#Finds min for tot_death column of pandas df2\n",
    "new[new[\"tot_death\"] == new[\"tot_death\"].min()][[\"submission_date\", \"state\",\"tot_death\"]]"
   ]
  },
  {
   "cell_type": "markdown",
   "id": "617a1bdb",
   "metadata": {},
   "source": [
    "#### US: COVID-19 deaths (Highest 10 States)"
   ]
  },
  {
   "cell_type": "code",
   "execution_count": 342,
   "id": "aecbdc81",
   "metadata": {},
   "outputs": [
    {
     "data": {
      "image/png": "[encoded data removed]",
      "text/plain": [
       "<Figure size 576x396 with 1 Axes>"
      ]
     },
     "metadata": {},
     "output_type": "display_data"
    }
   ],
   "source": [
    "#sorts people vaccinated values from descending order\n",
    "high_vaccine_df = new.sort_values('tot_death',ascending=False)[:10]\n",
    "high_vaccine = high_vaccine_df[['state', 'tot_death']]\n",
    "\n",
    "#plots bar graph\n",
    "expensiveplot = sns.barplot(x = 'state',y='tot_death', data=high_vaccine, palette=\"Spectral\")\n",
    "expensiveplot.set_xticklabels(expensiveplot.get_xticklabels(), rotation=40, ha=\"right\")\n",
    "expensiveplot.set(xlabel='States', ylabel='Total COVID-19 Deaths')\n",
    "\n",
    "plt.ticklabel_format(style='plain', axis='y')\n",
    "plt.show()"
   ]
  },
  {
   "cell_type": "markdown",
   "id": "2287abf6",
   "metadata": {},
   "source": [
    "#### US: COVID-19 deaths (Lowest 10 States)"
   ]
  },
  {
   "cell_type": "code",
   "execution_count": 343,
   "id": "54caefdf",
   "metadata": {},
   "outputs": [
    {
     "data": {
      "image/png": "[encoded data removed]",
      "text/plain": [
       "<Figure size 576x396 with 1 Axes>"
      ]
     },
     "metadata": {},
     "output_type": "display_data"
    }
   ],
   "source": [
    "#sorts people vaccinated values from descending order\n",
    "high_vaccine_df = new.sort_values('tot_death',ascending=True)[:10]\n",
    "high_vaccine = high_vaccine_df[['state', 'tot_death']]\n",
    "\n",
    "#plots bar graph\n",
    "expensiveplot = sns.barplot(x = 'state',y='tot_death', data=high_vaccine, palette=\"Spectral\")\n",
    "expensiveplot.set_xticklabels(expensiveplot.get_xticklabels(), rotation=40, ha=\"right\")\n",
    "expensiveplot.set(xlabel='States', ylabel='Total COVID-19 Deaths')\n",
    "\n",
    "plt.ticklabel_format(style='plain', axis='y')\n",
    "plt.show()"
   ]
  },
  {
   "cell_type": "markdown",
   "id": "d861f226",
   "metadata": {},
   "source": [
    "# 4. Comparing Results\n"
   ]
  },
  {
   "cell_type": "markdown",
   "id": "5ffe7914",
   "metadata": {},
   "source": [
    "From Part 2, we know that the state with the highest vaccination rate is Rhode Island, with 83.81%. Let's see what their COVID-19 total death amount is: "
   ]
  },
  {
   "cell_type": "code",
   "execution_count": 344,
   "id": "6fc1d69e",
   "metadata": {},
   "outputs": [
    {
     "name": "stdout",
     "output_type": "stream",
     "text": [
      "+---------------+-----+---------+----------+--------+---------+---------+\n",
      "|submission_date|state|tot_cases|conf_cases|new_case|tot_death|new_death|\n",
      "+---------------+-----+---------+----------+--------+---------+---------+\n",
      "|     04/01/2022|   RI|   343580|      null|     242|     3522|        0|\n",
      "+---------------+-----+---------+----------+--------+---------+---------+\n",
      "\n"
     ]
    }
   ],
   "source": [
    "#filtering rows, finding the row for Rhode Island\n",
    "df_matches2_drop.filter((df_matches2_drop.state  == \"RI\") & (df_matches2_drop.submission_date  == \"04/01/2022\")).show()"
   ]
  },
  {
   "cell_type": "markdown",
   "id": "1ec8510e",
   "metadata": {},
   "source": [
    "We can see that Rhode Island's total death count is pretty low, with 3522 total cases. "
   ]
  },
  {
   "cell_type": "markdown",
   "id": "f104ecbf",
   "metadata": {},
   "source": [
    "From Part 2, we also know that the state with the lowest vaccination rate is Alabama. Let's see what their COVID-19 total death amount is:"
   ]
  },
  {
   "cell_type": "code",
   "execution_count": 345,
   "id": "db2a40b4",
   "metadata": {},
   "outputs": [
    {
     "name": "stdout",
     "output_type": "stream",
     "text": [
      "+---------------+-----+---------+----------+--------+---------+---------+\n",
      "|submission_date|state|tot_cases|conf_cases|new_case|tot_death|new_death|\n",
      "+---------------+-----+---------+----------+--------+---------+---------+\n",
      "|     04/01/2022|   AL|  1295737|    932570|     276|    19374|        0|\n",
      "+---------------+-----+---------+----------+--------+---------+---------+\n",
      "\n"
     ]
    }
   ],
   "source": [
    "#filtering rows, finding the row for Alabama\n",
    "df_matches2_drop.filter((df_matches2_drop.state  == \"AL\") & (df_matches2_drop.submission_date  == \"04/01/2022\")).show()"
   ]
  },
  {
   "cell_type": "markdown",
   "id": "a06ec5d0",
   "metadata": {},
   "source": [
    "The state with the second highest vaccination rate is Vermont. The following is a table that contains their death total:"
   ]
  },
  {
   "cell_type": "code",
   "execution_count": 346,
   "id": "78b4a63d",
   "metadata": {},
   "outputs": [
    {
     "name": "stdout",
     "output_type": "stream",
     "text": [
      "+---------------+-----+---------+----------+--------+---------+---------+\n",
      "|submission_date|state|tot_cases|conf_cases|new_case|tot_death|new_death|\n",
      "+---------------+-----+---------+----------+--------+---------+---------+\n",
      "|     04/01/2022|   VT|   108249|      null|       0|      587|        0|\n",
      "+---------------+-----+---------+----------+--------+---------+---------+\n",
      "\n"
     ]
    }
   ],
   "source": [
    "#filtering rows, finding the row for Vermont\n",
    "df_matches2_drop.filter((df_matches2_drop.state  == \"VT\") & (df_matches2_drop.submission_date  == \"04/01/2022\")).show()"
   ]
  },
  {
   "cell_type": "markdown",
   "id": "af0f3d7f",
   "metadata": {},
   "source": [
    "The state with the third highest vaccination rate is Maine. The following is a table that contains their death total: "
   ]
  },
  {
   "cell_type": "code",
   "execution_count": 347,
   "id": "c7755c9b",
   "metadata": {},
   "outputs": [
    {
     "name": "stdout",
     "output_type": "stream",
     "text": [
      "+---------------+-----+---------+----------+--------+---------+---------+\n",
      "|submission_date|state|tot_cases|conf_cases|new_case|tot_death|new_death|\n",
      "+---------------+-----+---------+----------+--------+---------+---------+\n",
      "|     04/01/2022|   ME|   236259|    171078|     213|     2202|        0|\n",
      "+---------------+-----+---------+----------+--------+---------+---------+\n",
      "\n"
     ]
    }
   ],
   "source": [
    "#filtering rows, finding the row for Maine\n",
    "df_matches2_drop.filter((df_matches2_drop.state  == \"ME\") & (df_matches2_drop.submission_date  == \"04/01/2022\")).show()"
   ]
  },
  {
   "cell_type": "markdown",
   "id": "1b4e5855",
   "metadata": {},
   "source": [
    "Vermont and Maine have very low total deaths, with 587 total deaths for Vermont and 2,202 total deaths for Maine. "
   ]
  },
  {
   "cell_type": "markdown",
   "id": "c80760ff",
   "metadata": {},
   "source": [
    "The state with the second lowest vaccination rate is Wyoming. The following is a table that contains their death total:"
   ]
  },
  {
   "cell_type": "code",
   "execution_count": 348,
   "id": "edec4988",
   "metadata": {},
   "outputs": [
    {
     "name": "stdout",
     "output_type": "stream",
     "text": [
      "+---------------+-----+---------+----------+--------+---------+---------+\n",
      "|submission_date|state|tot_cases|conf_cases|new_case|tot_death|new_death|\n",
      "+---------------+-----+---------+----------+--------+---------+---------+\n",
      "|     04/01/2022|   WY|   156167|    123161|      55|     1791|        0|\n",
      "+---------------+-----+---------+----------+--------+---------+---------+\n",
      "\n"
     ]
    }
   ],
   "source": [
    "#filtering rows, finding the row for Wyoming\n",
    "df_matches2_drop.filter((df_matches2_drop.state  == \"WY\") & (df_matches2_drop.submission_date  == \"04/01/2022\")).show()"
   ]
  },
  {
   "cell_type": "code",
   "execution_count": 349,
   "id": "1170d334",
   "metadata": {},
   "outputs": [
    {
     "name": "stdout",
     "output_type": "stream",
     "text": [
      "+---------------+-----+---------+----------+--------+---------+---------+\n",
      "|submission_date|state|tot_cases|conf_cases|new_case|tot_death|new_death|\n",
      "+---------------+-----+---------+----------+--------+---------+---------+\n",
      "|     04/01/2022|   MS|   794721|    436748|     163|    12399|        2|\n",
      "+---------------+-----+---------+----------+--------+---------+---------+\n",
      "\n"
     ]
    }
   ],
   "source": [
    "#filtering rows, finding the row for Mississippi\n",
    "df_matches2_drop.filter((df_matches2_drop.state  == \"MS\") & (df_matches2_drop.submission_date  == \"04/01/2022\")).show()"
   ]
  },
  {
   "cell_type": "markdown",
   "id": "9cae1e3c",
   "metadata": {},
   "source": [
    "##### In order to accurately compare death and vaccination rates, we need to calculate the mortality rate."
   ]
  },
  {
   "cell_type": "markdown",
   "id": "82cc25ab",
   "metadata": {},
   "source": [
    "In order to do this, we will divide the total number of deaths/total population of that state. It will be expressed in units per 100 individuals. The following includes calculations and the answers, which represents the total percentage of people of that state's population that died from COVID-19:"
   ]
  },
  {
   "cell_type": "code",
   "execution_count": 350,
   "id": "2854cfeb",
   "metadata": {},
   "outputs": [],
   "source": [
    "rhode_island = (3522/1058000)*100\n",
    "vermont = (587/624340)*100\n",
    "maine = (2202/1341000)*100\n",
    "\n",
    "alabama = (19374/4893000)*100\n",
    "wyoming = (1791/581348)*100\n",
    "mississippi = (12399/2982000)*100"
   ]
  },
  {
   "cell_type": "code",
   "execution_count": 351,
   "id": "b7e7d824",
   "metadata": {},
   "outputs": [
    {
     "data": {
      "text/plain": [
       "0.3328922495274102"
      ]
     },
     "execution_count": 351,
     "metadata": {},
     "output_type": "execute_result"
    }
   ],
   "source": [
    "rhode_island"
   ]
  },
  {
   "cell_type": "code",
   "execution_count": 352,
   "id": "2133bbb6",
   "metadata": {},
   "outputs": [
    {
     "data": {
      "text/plain": [
       "0.09401928436428869"
      ]
     },
     "execution_count": 352,
     "metadata": {},
     "output_type": "execute_result"
    }
   ],
   "source": [
    "vermont"
   ]
  },
  {
   "cell_type": "code",
   "execution_count": 353,
   "id": "d1a89ee2",
   "metadata": {},
   "outputs": [
    {
     "data": {
      "text/plain": [
       "0.16420581655480984"
      ]
     },
     "execution_count": 353,
     "metadata": {},
     "output_type": "execute_result"
    }
   ],
   "source": [
    "maine"
   ]
  },
  {
   "cell_type": "code",
   "execution_count": 354,
   "id": "250b49a1",
   "metadata": {},
   "outputs": [
    {
     "data": {
      "text/plain": [
       "0.3959534028203556"
      ]
     },
     "execution_count": 354,
     "metadata": {},
     "output_type": "execute_result"
    }
   ],
   "source": [
    "alabama"
   ]
  },
  {
   "cell_type": "code",
   "execution_count": 355,
   "id": "8f4eb3a7",
   "metadata": {},
   "outputs": [
    {
     "data": {
      "text/plain": [
       "0.30807708979819315"
      ]
     },
     "execution_count": 355,
     "metadata": {},
     "output_type": "execute_result"
    }
   ],
   "source": [
    "wyoming"
   ]
  },
  {
   "cell_type": "code",
   "execution_count": 356,
   "id": "b3158cde",
   "metadata": {},
   "outputs": [
    {
     "data": {
      "text/plain": [
       "0.41579476861167003"
      ]
     },
     "execution_count": 356,
     "metadata": {},
     "output_type": "execute_result"
    }
   ],
   "source": [
    "mississippi"
   ]
  },
  {
   "cell_type": "code",
   "execution_count": 363,
   "id": "ad574eaa",
   "metadata": {},
   "outputs": [
    {
     "data": {
      "text/plain": [
       "Text(0, 0.5, 'Mortality Rate')"
      ]
     },
     "execution_count": 363,
     "metadata": {},
     "output_type": "execute_result"
    },
    {
     "data": {
      "image/png": "[encoded data removed]",
      "text/plain": [
       "<Figure size 1080x576 with 1 Axes>"
      ]
     },
     "metadata": {},
     "output_type": "display_data"
    }
   ],
   "source": [
    "#Creating a bar graph of Top 3 states with the highest vac pertentage\n",
    "plotdata = pd.DataFrame({\"Total Deaths\":[rhode_island, vermont, maine]},index = [\"Rhode Island\", \"Vermont\", \"Maine\"])\n",
    "plotdata.plot(kind=\"bar\",figsize=(15, 8),color=\"purple\")\n",
    "plt.title(\"The Total Deaths of the Top 3 States with the Highest-Vaccination Population Per Hundred\")\n",
    "plt.xlabel(\"States\")\n",
    "plt.ylabel(\"Mortality Rate\")"
   ]
  },
  {
   "cell_type": "code",
   "execution_count": 362,
   "id": "f06959df",
   "metadata": {},
   "outputs": [
    {
     "data": {
      "text/plain": [
       "Text(0, 0.5, 'Mortality Rate')"
      ]
     },
     "execution_count": 362,
     "metadata": {},
     "output_type": "execute_result"
    },
    {
     "data": {
      "image/png": "[encoded data removed]",
      "text/plain": [
       "<Figure size 1080x576 with 1 Axes>"
      ]
     },
     "metadata": {},
     "output_type": "display_data"
    }
   ],
   "source": [
    "plotdata = pd.DataFrame({\"Total Deaths\":[alabama,wyoming,mississippi]},index = [\"Alabama\", \"Wyoming\", \"Mississippi\"])\n",
    "plotdata.plot(kind=\"bar\",figsize=(15, 8),color=\"orange\")\n",
    "plt.title(\"The Total Deaths of the Bottom 3 States with the Lowest-Vaccination Population Per Hundred\")\n",
    "plt.xlabel(\"States\")\n",
    "plt.ylabel(\"Mortality Rate\")"
   ]
  },
  {
   "cell_type": "markdown",
   "id": "3a83716a",
   "metadata": {},
   "source": [
    "##### From the graphs above, we can see that the three states with the lowest vaccinated population (Alabama, Wyoming, Mississippi) have a slightly higher COVID-19 moratality rate than the three states with the highest vaccinated population (Rhode Island, Vermont, Maine). This means that states that have a higher percentage of people fully-vaccinated correlates to a lower mortality rate. \n",
    "\n",
    "##### From these results, we can conclude that there is a slight correlation between COVID-19 vaccination rates and mortality rates, as vaccination rates have a slight impact on mortality rates. "
   ]
  }
 ],
 "metadata": {
  "kernelspec": {
   "display_name": "Python 3 (ipykernel)",
   "language": "python",
   "name": "python3"
  },
  "language_info": {
   "codemirror_mode": {
    "name": "ipython",
    "version": 3
   },
   "file_extension": ".py",
   "mimetype": "text/x-python",
   "name": "python",
   "nbconvert_exporter": "python",
   "pygments_lexer": "ipython3",
   "version": "3.9.12"
  }
 },
 "nbformat": 4,
 "nbformat_minor": 5
}
